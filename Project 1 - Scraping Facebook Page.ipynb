{
 "cells": [
  {
   "cell_type": "markdown",
   "metadata": {
    "deletable": true,
    "editable": true
   },
   "source": [
    "# Project 1: Scraping Facebook Page"
   ]
  },
  {
   "cell_type": "markdown",
   "metadata": {
    "deletable": true,
    "editable": true
   },
   "source": [
    "*Note: This project is based on Max Woolf's tutorial (http://minimaxir.com/2015/07/facebook-scraper/) and his GitHub documentation (https://github.com/minimaxir/facebook-page-post-scraper/blob/master/examples/how_to_build_facebook_scraper.ipynb). Do check out his other works!*"
   ]
  },
  {
   "cell_type": "markdown",
   "metadata": {
    "deletable": true,
    "editable": true
   },
   "source": [
    "For this project, we are using Facebook's Graph API v2.9. To access the API, please register here: https://developers.facebook.com/."
   ]
  },
  {
   "cell_type": "code",
   "execution_count": 1,
   "metadata": {
    "collapsed": true,
    "deletable": true,
    "editable": true
   },
   "outputs": [],
   "source": [
    "# Import Python libraries\n",
    "\n",
    "import urllib2\n",
    "import json\n",
    "import datetime\n",
    "import csv\n",
    "import time"
   ]
  },
  {
   "cell_type": "markdown",
   "metadata": {
    "deletable": true,
    "editable": true
   },
   "source": [
    "Accessing Facebook page data requires an access token.\n",
    "\n",
    "Since the user access token expires within an hour, we need to create a dummy application for the sole purpose of scraping and use the app ID and app secret generated there as described here, both of which never expire."
   ]
  },
  {
   "cell_type": "code",
   "execution_count": 2,
   "metadata": {
    "collapsed": false,
    "deletable": true,
    "editable": true
   },
   "outputs": [
    {
     "name": "stdout",
     "output_type": "stream",
     "text": [
      "1940006869546648|7b27f0f69664660892edf6ee9fea0f8b\n"
     ]
    }
   ],
   "source": [
    "app_id = \"1940006869546648\"\n",
    "app_secret = \"7b27f0f69664660892edf6ee9fea0f8b\"\n",
    "\n",
    "access_token = app_id + \"|\" + app_secret\n",
    "print access_token"
   ]
  },
  {
   "cell_type": "markdown",
   "metadata": {
    "deletable": true,
    "editable": true
   },
   "source": [
    "Now we can access public Facebook data without limit. I'm going to do analysis on Jokowi's page, because I'm interested to see how his popularity rose/declined since the beginning of his political career."
   ]
  },
  {
   "cell_type": "code",
   "execution_count": 3,
   "metadata": {
    "collapsed": true,
    "deletable": true,
    "editable": true
   },
   "outputs": [],
   "source": [
    "page_id = 'Jokowi'"
   ]
  },
  {
   "cell_type": "markdown",
   "metadata": {
    "deletable": true,
    "editable": true
   },
   "source": [
    "First, we need to write a function to ping Jokowi's Facebook page to verify that the access_token works and the page_id is valid."
   ]
  },
  {
   "cell_type": "code",
   "execution_count": 4,
   "metadata": {
    "collapsed": false,
    "deletable": true,
    "editable": true
   },
   "outputs": [
    {
     "name": "stdout",
     "output_type": "stream",
     "text": [
      "https://graph.facebook.com/v2.9/Jokowi/?access_token=1940006869546648|7b27f0f69664660892edf6ee9fea0f8b\n",
      "{\n",
      "    \"id\": \"390581294464059\", \n",
      "    \"name\": \"Presiden Joko Widodo\"\n",
      "}\n"
     ]
    }
   ],
   "source": [
    "def testFacebookPageData(page_id, access_token):\n",
    "    \n",
    "    # construct the URL string\n",
    "    base = \"https://graph.facebook.com/v2.9\"\n",
    "    node = \"/\" + page_id\n",
    "    parameters = \"/?access_token=%s\" % access_token\n",
    "    url = base + node + parameters\n",
    "    print url\n",
    "    \n",
    "    # retrieve data\n",
    "    req = urllib2.Request(url)\n",
    "    response = urllib2.urlopen(req)\n",
    "    data = json.loads(response.read())\n",
    "    \n",
    "    print json.dumps(data, indent=4, sort_keys=True)\n",
    "\n",
    "testFacebookPageData(page_id, access_token)"
   ]
  },
  {
   "cell_type": "markdown",
   "metadata": {
    "deletable": true,
    "editable": true
   },
   "source": [
    "When scraping large amounts of data from public APIs, there's a high probability that you'll hit an HTTP Error 500 (Internal Error) at some point. There is no way to avoid that on our end.\n",
    "\n",
    "Instead, we'll use a helper function to catch the error and try again after a few seconds, which usually works. This helper function also consolidates the data retrival code, so it kills two birds with one stone."
   ]
  },
  {
   "cell_type": "code",
   "execution_count": 5,
   "metadata": {
    "collapsed": true,
    "deletable": true,
    "editable": true
   },
   "outputs": [],
   "source": [
    "def request_until_succeed(url):\n",
    "    req = urllib2.Request(url)\n",
    "    success = False\n",
    "    while success is False:\n",
    "        try: \n",
    "            response = urllib2.urlopen(req)\n",
    "            if response.getcode() == 200:\n",
    "                success = True\n",
    "        except Exception, e:\n",
    "            print e\n",
    "            time.sleep(5)\n",
    "            \n",
    "            print \"Error for URL %s: %s\" % (url, datetime.datetime.now())\n",
    "\n",
    "    return response.read()"
   ]
  },
  {
   "cell_type": "markdown",
   "metadata": {
    "deletable": true,
    "editable": true
   },
   "source": [
    "The data is the Facebook Page metadata however; we need to change the endpoint to the /feed endpoint."
   ]
  },
  {
   "cell_type": "code",
   "execution_count": 6,
   "metadata": {
    "collapsed": false,
    "deletable": true,
    "editable": true
   },
   "outputs": [
    {
     "name": "stdout",
     "output_type": "stream",
     "text": [
      "{\n",
      "    \"data\": [\n",
      "        {\n",
      "            \"created_time\": \"2017-05-08T08:04:11+0000\", \n",
      "            \"id\": \"390581294464059_698944980294354\", \n",
      "            \"message\": \"Mari bersaing dan berlomba-lomba untuk kemajuan bangsa....\"\n",
      "        }, \n",
      "        {\n",
      "            \"created_time\": \"2017-05-08T02:00:01+0000\", \n",
      "            \"id\": \"390581294464059_698848546970664\", \n",
      "            \"message\": \"Sebuah kehormatan dari lembaga adat Tanah Bumbu, Kalimantan Selatan, tersampir di pundak saya kini: gelar Kapiteng Lau Pulo.\\n\\nDisematkan pada Puncak Budaya Maritim Pesta Laut Mappanretasi di Pantai Pagatan, kemarin, gelar ini mengandung harapan untuk menjaga kedaulatan laut dan pulaunya. Pesta Adat Mappanretasi di Kabupaten Tanah Bumbu ini menjadi bukti bahwa jati diri kita, karakter kita, budaya kita adalah kodrat dari bangsa dan negara kita Indonesia, yaitu bangsa maritim.\\n\\nKita telah lama memunggungi lautan, padahal kekayaan kita ada di laut. Bahkan diperkirakan sumber daya alam laut Indonesia memiliki potensi kurang lebih Rp17 ribu triliun setiap tahun, kalau kita kelola dengan baik.\\n\\nFoto: Biro Pers Setpres\"\n",
      "        }, \n",
      "        {\n",
      "            \"created_time\": \"2017-05-07T03:18:14+0000\", \n",
      "            \"id\": \"390581294464059_698455223676663\", \n",
      "            \"message\": \"Saya pernah tinggal di Aceh. Saya ingat, hampir setiap pagi menikmati kopi gayo. Ini  jenis kopi yang enak sekali.\\n\\nMengingat itu, dan bahwa di daerah lain pun banyak terdapat kopi yang sangat spesial dan memiliki harga yang sangat bagus, kenapa ini tidak kita tanam? Kenapa tidak kita remajakan?\\n\\nDi arena Pekan Nasional Petani Nelayan 2017 di Banda Aceh, kemarin, saya mengingatkan kepada gubernur, walikota, dan bupati untuk mulai mencari tanaman-tanaman unggulan di daerahnya yang memiliki harga jual yang baik. Jangan terpaku pada tanaman-tanaman tertentu saja.\\n\\nKakao dan kopi adalah contoh dari komoditas yang memiliki harga jual yang baik. Untuk kakao misalnya, permintaan di dalam negeri tinggi tapi suplainya masih kurang. Harga kopi juga naik terus. Selain itu, ada mete yang harganya juga baik. Kenapa tidak kita tanam?\\n\\nFoto: Biro Pers Setpres\"\n",
      "        }, \n",
      "        {\n",
      "            \"created_time\": \"2017-05-06T12:06:45+0000\", \n",
      "            \"id\": \"390581294464059_698178693704316\", \n",
      "            \"message\": \"Terima kasih Yadian yang ganteng atas video kirimannya untuk #JokowiMenjawab. Sekarang saya jadi paham apa itu Hokage dan Konoha.\\n\\nApakah saya mampu menjadikan negara kita seperti Konoha dalam kepemimpinan Uzumaki Naruto yang tenteram, damai, alim dan disiplin? Saya jawab Insya Allah. Dengan ijin Allah dan kerja keras kita semua, pasti bisa.\\n\\nMengenai kunjungan ke Pondok Pesantren Al-Khoirot di Malang, saya pun berharap semoga ada kesempatan ke sana.\"\n",
      "        }, \n",
      "        {\n",
      "            \"created_time\": \"2017-05-06T03:19:10+0000\", \n",
      "            \"id\": \"390581294464059_698058523716333\", \n",
      "            \"message\": \"Apa makna Hari Kartini untuk kamu? Ini pertanyaan dari saya tepat pada hari kelahiran Raden Ajeng Kartini, 21 April lalu, di laman Facebook ini.\\n\\nTernyata, pertanyaan itu menuai jawaban yang sungguh-sungguh beragam. Ada 5.246 komentar yang masuk, 3.258 jawaban di antaranya secara langsung merespon pertanyaan itu. Topik-topik jawabannya terentang dari soal kesetaraan hak perempuan dan laki-laki, hak untuk mendapatkan pendidikan, peran perempuan sebagai ibu untuk menjadi teladan ke anak, perempuan dapat berkarya, sampai pada Kartini sebagai Pahlawan. \\n\\nDari jawaban-jawaban itulah sebuah tim kecil menentukan sepuluh orang yang berhak menerima buku terjemahan kumpulan surat-surat Kartini, Habis Gelap Terbitlah Terang, terbitan Balai Pustaka. Halaman depan setiap buku itu saya tandatangani sebagai ungkapan terima kasih.\\n\\nKepada para pemenang saya sampaikan selamat. Mohon untuk mengirimkan salinan kartu identitas KTP, alamat pengiriman dan nomor telepon yang bisa dihubungi melalui pesan pribadi (inbox) di Facebook Presiden Joko Widodo.\"\n",
      "        }, \n",
      "        {\n",
      "            \"created_time\": \"2017-05-05T09:00:00+0000\", \n",
      "            \"id\": \"390581294464059_697669470421905\", \n",
      "            \"message\": \"Dulu saya pun pernah tinggal di rumah kontrakan. Kamarnya ada dua. Sembilan tahun lamanya mengontrak, baru bisa beli rumah. Alhamdulillah.\\n\\nRumah kontrakan saya dulu itu kurang lebih sama dengan yang saya resmikan kemarin sore  di Villa Kencana Cikarang, Jalan Raya Pulo Sirih, Sukakarya, Kabupaten Bekasi. Ini rumah layak huni dan terjangkau bagi masyarakat berpenghasilan rendah.\\n\\nSebanyak 8.749 unit rumah tipe 25 dengan luas tanah 60 meter persegi akan dibangun di Villa Kencana. Dari rencana itu, sebanyak 4.734 unit telah diselesaikan dan 3.600 unit di antaranya telah dilakukan akad jual beli.\\n\\nHarganya Rp112-141 juta. Rumah-rumah ini dapat dibeli dengan uang muka satu persen saja dan cicilan sebesar Rp700-900 ribu per bulan. Pemerintah juga memberikan bantuan uang muka dan administrasi sebesar Rp4 juta.\\n\\nSaya memastikan bahwa pemerintah akan terus mengupayakan hunian yang layak dan terjangkau bagi masyarakat. Tak hanya di Pulau Jawa saja, tapi juga di pulau-pulau lainnya di seluruh Indonesia. Sebagaimana Rusunami yang pembangunannya sudah dimulai di Tangerang Selatan beberapa waktu lalu, rumah-rumah di Villa Kencana ini bagian dari program sejuta rumah yang digagas pemerintah.\"\n",
      "        }, \n",
      "        {\n",
      "            \"created_time\": \"2017-05-05T02:00:51+0000\", \n",
      "            \"id\": \"390581294464059_697537950435057\", \n",
      "            \"message\": \"Di kehidupan global saat ini, semakin banyak negara yang menjadikan Indonesia sebagai panutan dalam mengelola kemajemukan dengan tetap mempertahankan kerukunan.\\n\\nItulah yang saya sampaikan dalam silaturahmi dengan para peserta Musabaqah Hafalan Alquran dan Hadis Pangeran Sultan bin Abdul Aziz Alu Su\\u2019ud Tingkat ASEAN dan Pasifik ke-8 Tahun 2017. Musabaqah ini berlangsung selama dua hari, tanggal 2-3 Mei lalu, di Masjid Istiqlal, Jakarta.\\n\\nUmat Islam sudah -- dan perlu terus -- menunjukkan kepada dunia bahwa Islam adalah agama yang cinta damai, agama yang menjauhi fitnah, agama yang menjauhi kekerasan, dan agama yang rahmatan lil alamin\\n\\nSemangat untuk membaca, mendalami, menghayati, dan mengamalkan isi serta ajaran Alquran harus menjadi bagian dari nafas kehidupan sehari-hari setiap umat muslim.  Yang paling penting dari semua adalah mengamalkan ajaran Alquran di luar kompetisi musabaqah ini.\\n\\nKepada para qori/qoriah, hafiz/hafizah, mufasir/mufasirah yang meraih peringkat dan juara dalam musabaqah ini, saya mengucapkan selamat.\\n\\nFoto: Biro Pers Setpres\"\n",
      "        }, \n",
      "        {\n",
      "            \"created_time\": \"2017-05-04T12:36:16+0000\", \n",
      "            \"id\": \"390581294464059_697312740457578\", \n",
      "            \"message\": \"Sepeda-sepeda dari Presiden Joko Widodo dengan pelat khusus berisi pesan:  \\\"Terus Melaju\\\" untuk para pemenang kuis berhadiah #SepedaJokowi .\\n\\nSebagaimana kehidupan dan kebangsaan, kita semua harus terus bergerak ke depan, bersama Indonesia yang maju.\\n\\nTeruslah melaju ....\"\n",
      "        }, \n",
      "        {\n",
      "            \"created_time\": \"2017-05-04T02:03:49+0000\", \n",
      "            \"id\": \"390581294464059_697131417142377\", \n",
      "            \"message\": \"Indonesia menjadi tuan rumah perhelatan World Press Freedom Day 2017 di saat dunia pers menghadapi tantangan terbesar dalam perjalanannya, yaitu banyaknya hoaks, berita bohong dan ujaran kebencian.  Kita juga masih melihat sejumlah jurnalis yang menghadapi kekerasan di berbagai belahan dunia.\\n\\nSudah semestinya bagi media mainstream, media online dan seluruh pihak untuk bersama-sama meluruskan dan menjernihkan berita-berita yang tidak benar. Jangan malah diangkat atau diviralkan.\\n\\nPada peringatan Hari Kebebasan Pers Dunia 2017 di Jakarta semalam, saya menggambarkan kondisi saat terjadi krisis keuangan di Asia pada tahun 1997. Namun krisis pulalah yang melahirkan masyarakat Indonesia yang kuat dan dinamis. Dan yang terpenting adalah lahirnya kebebasan berpolitik, termasuk kebebasan mengemukakan pendapat dan kebebasan pers.\\n\\nDalam dua puluh tahun terakhir ini tidak kurang telah terjadi empat kali pergantian pemerintahan yang berlangsung dengan damai. Kita tidak dapat melakukan ini tanpa peran serta pers nasional dan dunia. Sejak era reformasi di akhir 1990, pers yang bebas memainkan peranan penting dalam menjaga jalannya pemerintahan yang akuntabel serta mengungkap dan memerangi korupsi.  \\n\\nSaya berharap agar kebebasan yang telah didapatkan oleh insan pers dapat diiringi dengan tanggung jawab yang nyata. \\n\\nFoto: Biro Pers Setpres\"\n",
      "        }, \n",
      "        {\n",
      "            \"created_time\": \"2017-05-02T13:28:20+0000\", \n",
      "            \"id\": \"390581294464059_696448483877337\", \n",
      "            \"message\": \"Saya menyambut para pegiat literasi dengan sukacita di istana hari ini. Saya sudah mendengar kisah perjuangan mereka -- di gunung, di perbatasan, di tepi pantai, di tempat-tempat yang jauh sekali -- dalam mendorong masyarakat untuk membaca buku.\\n\\nAda yang lewat perahu, ada yang naik bemo, ada yang dengan kuda, ada juga yang sembari berjualan jamu. Mereka memodifikasi kendaraan sedemikian rupa menjadi perpustakaan keliling. Semua itu demi akses anak-anak kita terhadap buku-buku bacaan.\\n\\nKisah para pegiat literasi ini dapat menjadi sebuah inspirasi bagi pegiat-pegiat lainnya.\\n\\nSaya sudah memerintahkan kepada Menteri Pendidikan dan Kebudayaan agar di setiap titik kegiatan mereka itu dikirim minimal 10.000 buku. Pemerintah juga akan menyediakan satu hari khusus setiap bulan di mana biaya pengiriman buku akan dibebaskan.\\n\\nFoto: Biro Pers Setpres\"\n",
      "        }, \n",
      "        {\n",
      "            \"created_time\": \"2017-05-02T06:18:46+0000\", \n",
      "            \"id\": \"390581294464059_696306327224886\", \n",
      "            \"message\": \"Menyambut Hari Pendidikan Nasional tahun ini, saya ingin mengingatkan kembali pentingnya keberhasilan Program Kartu Indonesia Pintar (KIP).\\n\\nKIP adalah komitmen besar negara dalam menjamin dan memastikan seluruh anak usia sekolah bisa terus belajar dan sekolah sampai jenjang pendidikan menengah. Anak-anak yang pintar adalah modal besar kita menuju Indonesia Maju. \\n\\nOleh sebab itu, dalam kunjungan ke berbagai kota, saya selalu bertanya kepada anak-anak bagaimana mereka menggunakan KIP untuk mendukung kegiatan belajar dan sekolah.  Saya ingin mendengarkan langsung dari mereka manfaat KIP.\\n\\nPada Hari Pendididikan Nasional ini, untuk anak-anak yang belum sempat bercerita bagaimana Kartu Indonesia Pintar (KIP) membantu  kalian bersekolah, bisa mengirimkan cerita kalian di kolom komentar Facebook post ini.\", \n",
      "            \"story\": \"Presiden Joko Widodo with Kita Pintar.\"\n",
      "        }, \n",
      "        {\n",
      "            \"created_time\": \"2017-05-02T02:00:17+0000\", \n",
      "            \"id\": \"390581294464059_696179010570951\", \n",
      "            \"message\": \"Anda bisa bertemu saya kapan saja di Hong Kong. Tentu saja, dalam bentuk figur lilin di Museum Madame Tussauds.\\n\\nBerdiri di satu pojok museum, figur lilin ini memiliki latar berupa layar lebar yang tampilannya dapat diubah setiap saat. Ketika kami berkunjung ke sini, Senin, latar yang ditampilkan adalah Candi Borobudur.\\n\\nSaya minta latarnya diganti setiap bulan. Bisa Labuan Bajo, Bali, Raja Ampat, Danau Toba. Ini saya kira bagus untuk promosi pariwisata kita.\\n\\nIbu Negara sendiri menganggap figur lilin ini 99 persen mirip saya \\ud83d\\ude01. Apalagi properti yang digunakan memang dikirim dari tanah air. Batik, baju putih, celana, dan sepatu, semua dari kita.\\n\\nFoto: Biro Pers Setpres\"\n",
      "        }, \n",
      "        {\n",
      "            \"created_time\": \"2017-05-01T11:21:50+0000\", \n",
      "            \"id\": \"390581294464059_695914793930706\", \n",
      "            \"message\": \"Tak kurang dari 5.400 warga negara Indonesia datang dan bertemu saya di acara bertajuk \\u2018Temu Kangen Presiden RI dan Ibu Negara\\u2019 di Hong Kong, semalam. Saya berkeliling, bersalaman dan berfoto bersama mereka, tapi tak semuanya bisa saya jangkau.  \\n\\nBeberapa di antaranya sempat berbicara langsung di atas panggung. Beragam masukan disampaikan, mulai dari apresiasi atas kinerja rumah sakit di Kulonprogo, keluhan petani Indramayu yang harus menyewa lahan milik pemerintah, hingga mahalnya harga daging, gula dan telur menjelang lebaran. Ada juga yang melapor bahwa Kartu Tenaga Kerja Luar Negeri yang sudah dihapus ternyata masih digunakan untuk mempersulit saudara-saudara kita.\\n\\nSaya mohon maaf jika kejadian-kejadian seperti itu masih terjadi. Memang ada yang masih belum bisa dikendalikan, tapi akan terus kita perbaiki, kita benahi. Saya sudah mencatat alamat keluhan anak petani tersebut, juga meminta tolong kepada mereka, jika masih ada oknum yang mempersulit pekerja atau apapun itu, segera laporkan. \\n\\nTerima kasih atas masukan-masukan ini. Semuanya menjadi catatan buat pemerintah.\\n\\nFoto : Biro Pers Setpres\"\n",
      "        }, \n",
      "        {\n",
      "            \"created_time\": \"2017-05-01T04:41:48+0000\", \n",
      "            \"id\": \"390581294464059_695805220608330\", \n",
      "            \"message\": \"Mari maju bersama ...\"\n",
      "        }, \n",
      "        {\n",
      "            \"created_time\": \"2017-04-30T09:00:52+0000\", \n",
      "            \"id\": \"390581294464059_695383273983858\", \n",
      "            \"message\": \"Saat ini jumlah pekerja migran ASEAN tercatat sekitar 6,8 juta orang. Dengan remittance sebesar USD58 milyar tahun 2015, kontribusi mereka nyata bagi perekonomian ASEAN. Namun tidak sedikit dari mereka mengalami perlakuan tidak manusiawi, menjadi korban dari Tindak Pidana Perdagangan Orang dan hak-haknya tidak dihormati.\\n\\nKarena itulah, dalam pertemuan Pemimpin ASEAN dengan delegasi ASEAN Inter-Parliamentary Assembly (AIPA) di Manila, Sabtu sore kemarin, saya mengingatkan bahwa upaya ASEAN untuk memberikan perlindungan terhadap buruh migran menjadi sangat penting artinya.\\n\\nSaya berharap dokumen perlindungan buruh migran dapat disepakati pada tahun ini. Untuk membuktikan \\u201cwe do care\\u201d.\\n\\nFoto : Biro Pers Setpres\"\n",
      "        }, \n",
      "        {\n",
      "            \"created_time\": \"2017-04-30T04:58:05+0000\", \n",
      "            \"id\": \"390581294464059_695373907318128\", \n",
      "            \"message\": \"Inilah dunia yang kita hadapi saat ini: kita menyaksikan beberapa kejadian mengkhawatirkan dan berada dalam sebuah ketidakpastian. Untuk itulah, di arena KTT ASEAN ke-30 di Manila, kemarin, saya mengajak komunitas ASEAN untuk hidup dan membawa perubahan.\\n\\nSaya memaparkan kondisi terkini yang terjadi di kawasan. Misalnya, mulai maraknya kegiatan lintas batas seperti perompakan, radikalisme dan terorisme, IUU Fishing, dan kejahatan narkoba. Saya meminta para pemimpin negara ASEAN bersama-sama menyelesaikan persoalan tersebut. Jangan sampai kita terlambat.\\n\\nSaya ulangi, jangan sampai kita terlambat.\\n\\nFoto : Biro Pers Setpres\"\n",
      "        }, \n",
      "        {\n",
      "            \"created_time\": \"2017-04-29T09:00:51+0000\", \n",
      "            \"id\": \"390581294464059_694946037360915\", \n",
      "            \"message\": \"Sebelum bertolak ke acara KTT ASEAN ke-30 di Manila, pagi tadi, saya bertemu dengan State Counsellor Myanmar, Daw Aung San Suu Kyi (Daw Suu).\\n\\nPertemuan yang singkat, hanya 30 menit, tapi kami berbicara tentang soal yang penting di antara kedua negara. Salah satunya tentang Rakhine State yang juga jadi perhatian di tanah air.\\n\\nIntinya adalah agar Rakhine State ini bisa berkembang menjadi sebuah wilayah yang maju secara inklusif, yang tidak terjadi diskriminasi, dan sebagainya. Program-programnya yang kita tawarkan adalah program untuk kesehatan, untuk pendidikan, untuk livehood program, dan lain-lain.\\n\\nDaw Suu sempat membicarakan seputar pembangunan rumah sakit di Rakhine. Katanya, masalah perizinan telah selesai sehingga konstruksi dapat dimulai sesegera mungkin.\\n\\nFoto : Biro Pers Setpres\"\n",
      "        }, \n",
      "        {\n",
      "            \"created_time\": \"2017-04-29T03:00:04+0000\", \n",
      "            \"id\": \"390581294464059_694737347381784\", \n",
      "            \"message\": \"Udara yang cerah, hamparan karpet merah dan jajar kehormatan di tarmac, menyambut kedatangan saya dan Ibu Negara di Bandar Udara Col. Jesus Villamor Manila, Filipina, kemarin. Begitu juga di Istana Malacanang bersama Presiden Rodrigo Roa Duterte.\\n\\nHari Minggu besok, kami berdua akan meresmikan pembukaan jalur pelayaran Ro-Ro di Davao/General Santos ke Bitung, Sulawesi Utara. Ini  bagian penting perwujudan konektivitas ASEAN.\\n\\nSelain itu, juga ada penandatanganan kesepakatan kerja sama dalam bidang pertanian. Sebagai negara bertetangga, Indonesia dan Filipina juga sepakat meningkatkan kerja sama di sektor-sektor politik dan keamanan, ekonomi, keamanan maritim, dan hubungan antara warga negara.\\n\\nOh ya, dalam upaya memerangi kejahatan lintas batas dan terorisme, kedua negara sepakat  menyelenggarakan Joint Working Group on Counter Terorism pada tahun ini. Kami sepakat untuk memperpanjang MoU Kerja Sama Pemberantasan Terorisme Tahun 2014 serta memperkuat kerja sama informasi intelijen.\\n\\nFoto : Biro Pers Setpres\"\n",
      "        }, \n",
      "        {\n",
      "            \"created_time\": \"2017-04-28T06:22:46+0000\", \n",
      "            \"id\": \"390581294464059_694561000732752\", \n",
      "            \"message\": \"Punya rumah sendiri bukanlah sekadar mimpi bagi para pekerja dan buruh. Untuk merekalah pemerintah hadir, mendorong dan membangun hunian terjangkau. Salah satunya yang kemarin saya datangi, adalah pembangunan rumah susun sederhana milik (Rusunami) untuk masyarakat berpenghasilan rendah di Urbantown-Loftvilles Serpong, Kota Tangerang Selatan, Banten.\\n\\nAda sembilan ribu unit Rusunami, enam ribu unit di antaranya disediakan oleh pemerintah untuk para buruh dan pekerja. Harganya sangat terjangkau, Rp293 juta. Uang muka satu persen atau Rp2,9 juta dan cicilan Rp1,2 juta per bulan. Saya kira pekerja dan buruh mampu membelinya.\\n\\nBagaimana gambaran unit Rusunami dengan harga itu? Sangat bagus. Tipe 30 dan terdiri atas dua kamar, juga ada ruang makan dan ruang tengah.\\n\\nSaya berharap unit-unit tersebut dapat dimiliki oleh mereka yang benar-benar membutuhkan. Untuk itulah kita bekerja sama dengan pimpinan-pimpinan serikat pekerja dan buruh untuk memastikan penghuninya adalah pekerja dan buruh berpenghasilan rendah.\\n\\nFoto: Biro Pers Setpres\"\n",
      "        }, \n",
      "        {\n",
      "            \"created_time\": \"2017-04-27T09:08:47+0000\", \n",
      "            \"id\": \"390581294464059_694164257439093\", \n",
      "            \"message\": \"Masa depan Indonesia akan ada di industri kerajinan dan industri kreatif. Kita punya berbagai bentuk kerajinan tangan dengan kualitas internasional, film, musik, aplikasi digital dan lain-lain.\\n\\nSaya punya pengalaman sebagai pengrajin dan pengusaha. Tantangan pengusaha industri kreatif yang utama adalah promosi dan pemasaran. Banyak calon pembeli tak tahu produk-produk kreatif yang dicarinya berada di Indonesia.\\n\\nNah, itulah tujuan International Handicraft Trade Fair (Inacraft) yang saya buka kemarin di Jakarta Convention Center. Inacraft adalah tempat yang paling baik untuk berpromosi. Penjual dan produsen bisa berhubungan langsung dengan pembeli dari pasar internasional.\"\n",
      "        }, \n",
      "        {\n",
      "            \"created_time\": \"2017-04-27T02:07:12+0000\", \n",
      "            \"id\": \"390581294464059_694028120786040\", \n",
      "            \"message\": \"Ada beberapa kebiasaan kita yang hendaknya harus segera diubah. Ini saya sampaikan dalam Musyawarah Perencanaan Pembangunan Nasional tahun 2017 di Jakarta, kemarin.\\n\\nPertama, sudah bertahun-tahun perencanaan kita tidak pernah fokus dan tidak memiliki prioritas yang jelas. Pemerintahan pusat hingga ke daerah cenderung berlomba-lomba untuk memperbanyak program yang akhirnya mempersulit diri sendiri, dan sering kali menjadi terbengkalai.\\n\\nKedua, kurangnya konsolidasi yang baik antara pemerintah pusat dan daerah. Ada waduk tapi tidak ada irigasinya bertahun-tahun. Ada pelabuhan, tapi tidak ada jalan. Artinya tidak terkonsolidasikan dengan baik. Tidak terintegrasi antara pusat, provinsi, kabupaten, dan kota. Berarti orientasinya hanya proyek.\\n\\nSemua ini harus kita ubah.\\n\\nPerubahan yang semakin cepat itu mengharuskan kita untuk turut bergerak cepat.\\n\\nDi luar sana orang sudah berpikir jauh. Coba lihat Elon Musk, dia berpikir mengenai kendaraan supercepat hyperloop, Tesla, dan SpaceX. Mereka sudah berpikir ke mana-mana, ke arah masa depan yang fantastik.\\n\\nFoto: Biro Pers Setpres\"\n",
      "        }, \n",
      "        {\n",
      "            \"created_time\": \"2017-04-26T09:44:26+0000\", \n",
      "            \"id\": \"390581294464059_693717810817071\", \n",
      "            \"message\": \"Memperingati Isra Mi'raj Nabi Besar Muhammad SAW bersama para kiai dan santri sungguh membahagiakan saya. Seperti kemarin, ketika saya hadir di Pondok Pesantren Al-Hikamussalafiyyah Cipulus, Purwakarta.\\n\\nInsya Allah, kita tunjukkan kepada dunia bahwa Islam adalah agama yang cinta damai, agama yang rahmatan lil alamin.\"\n",
      "        }, \n",
      "        {\n",
      "            \"created_time\": \"2017-04-26T02:00:00+0000\", \n",
      "            \"id\": \"390581294464059_693586994163486\", \n",
      "            \"message\": \"Saya hadir di media sosial karena saya ingin masyarakat Indonesia mengetahui dan ambil bagian dalam segala kebijakan pemerintah. Bahkan belakangan ini saya juga menggunakan video blog (vlog). Itu untuk menjangkau anak-anak muda.\\n\\nVlog-vlog itu seringkali lahir secara spontan. Misalnya, waktu ke waduk Sei Gong di Batam, akhir Maret lalu. Kok pekerjanya banyak sekali? Saya tanya dari mana asal mereka, ada yang dari Medan, Tanjung Pinang, Balikpapan, Makassar, NTT, macam-macam. Saat itu juga saya buat vlognya \\ud83d\\ude00\\n\\nSaya ingin menunjukkan bahwa yang bekerja di situ berasal dari Sabang sampai Merauke, dan setiap proyek pasti akan membuka lapangan pekerjaan baru.\\n\\nPemerintah memerlukan saluran tersendiri agar lebih leluasa berkomunikasi dengan masyarakat, terutama generasi muda.\"\n",
      "        }, \n",
      "        {\n",
      "            \"created_time\": \"2017-04-25T09:36:46+0000\", \n",
      "            \"id\": \"390581294464059_693302854191900\", \n",
      "            \"message\": \"Untuk setiap peningkatan investasi, masyarakatlah yang diuntungkan. Seperti PT Mitsubishi Motors Krama Yudha Indonesia yang membangun pabrik baru di kawasan Bekasi, Jawa Barat dan saya resmikan tadi pagi. Pabrik baru ini membuka tiga ribu lapangan kerja.\\n\\nSekali lagi, tiga ribu lapangan kerja!\\n\\nFoto: Biro Pers Setpres\"\n",
      "        }, \n",
      "        {\n",
      "            \"created_time\": \"2017-04-24T08:32:10+0000\", \n",
      "            \"id\": \"390581294464059_692846824237503\", \n",
      "            \"message\": \"Akhir pekan kemarin, saya mengantar cucu untuk memotong rambut. Coba perhatikan: potongan rambutnya tidak kalah dengan ayahnya..\"\n",
      "        }\n",
      "    ], \n",
      "    \"paging\": {\n",
      "        \"cursors\": {\n",
      "            \"after\": \"Q2c4U1pXNTBYM0YxWlhKNVgzTjBiM0o1WDJsa0R5UXpPVEExT0RFeU9UUTBOalF3TlRrNkxUTTVOalEwTWpReE9ESXlNekEwT0RZAMU1UWVBER0ZA3YVY5emRHOXllVjlwWkE4ZAk16a3dOVGd4TWprME5EWTBNRFU1WHpZANU1qZAzBOamd5TkRJek56VXdNdzhFZAEdsdFpRWlkvYmdLQVE9PQZDZD\", \n",
      "            \"before\": \"Q2c4U1pXNTBYM0YxWlhKNVgzTjBiM0o1WDJsa0R5UXpPVEExT0RFeU9UUTBOalF3TlRrNkxUa3dNVGs1TURVd056TXhNRGc0TmpJMk5UTVBER0ZA3YVY5emRHOXllVjlwWkE4ZAk16a3dOVGd4TWprME5EWTBNRFU1WHpZANU9EazBORGs0TURJNU5ETTFOQThFZAEdsdFpRWlpFQ1o3QVE9PQZDZD\"\n",
      "        }, \n",
      "        \"next\": \"https://graph.facebook.com/v2.9/390581294464059/feed?access_token=1940006869546648%7C7b27f0f69664660892edf6ee9fea0f8b&limit=25&after=Q2c4U1pXNTBYM0YxWlhKNVgzTjBiM0o1WDJsa0R5UXpPVEExT0RFeU9UUTBOalF3TlRrNkxUTTVOalEwTWpReE9ESXlNekEwT0RZAMU1UWVBER0ZA3YVY5emRHOXllVjlwWkE4ZAk16a3dOVGd4TWprME5EWTBNRFU1WHpZANU1qZAzBOamd5TkRJek56VXdNdzhFZAEdsdFpRWlkvYmdLQVE9PQZDZD\"\n",
      "    }\n",
      "}\n"
     ]
    }
   ],
   "source": [
    "def testFacebookPageFeedData(page_id, access_token):\n",
    "    \n",
    "    # construct the URL string\n",
    "    base = \"https://graph.facebook.com/v2.9\"\n",
    "    node = \"/\" + page_id + \"/feed\" # changed\n",
    "    parameters = \"/?access_token=%s\" % access_token\n",
    "    url = base + node + parameters\n",
    "    \n",
    "    # retrieve data\n",
    "    data = json.loads(request_until_succeed(url))\n",
    "    \n",
    "    print json.dumps(data, indent=4, sort_keys=True)\n",
    "    \n",
    "\n",
    "testFacebookPageFeedData(page_id, access_token)"
   ]
  },
  {
   "cell_type": "markdown",
   "metadata": {
    "deletable": true,
    "editable": true
   },
   "source": [
    "In v2.9, the default behavior is to return very, very little metadata for statuses in order to reduce bandwidth, with the expectation the user will request the necessary fields.\n",
    "\n",
    "We don't need data on every status yet. Let's reduce the requested fields to exactly what we need, and the number of stories returned to 1 so we can process it."
   ]
  },
  {
   "cell_type": "code",
   "execution_count": 7,
   "metadata": {
    "collapsed": false,
    "deletable": true,
    "editable": true
   },
   "outputs": [
    {
     "name": "stdout",
     "output_type": "stream",
     "text": [
      "{\n",
      "    \"comments\": {\n",
      "        \"data\": [\n",
      "            {\n",
      "                \"created_time\": \"2017-05-08T08:04:43+0000\", \n",
      "                \"from\": {\n",
      "                    \"id\": \"2014035415493059\", \n",
      "                    \"name\": \"Zulkifli\"\n",
      "                }, \n",
      "                \"id\": \"698944980294354_698945110294341\", \n",
      "                \"message\": \"Cool pakde \\ud83d\\ude0d\"\n",
      "            }\n",
      "        ], \n",
      "        \"paging\": {\n",
      "            \"cursors\": {\n",
      "                \"after\": \"WTI5dGJXVnVkRjlqZAFhKemIzSTZAOams0T1RRMU1URXdNamswTXpReE9qRTBPVFF5TXpBMk9EUT0ZD\", \n",
      "                \"before\": \"WTI5dGJXVnVkRjlqZAFhKemIzSTZAOams0T1RRMU1URXdNamswTXpReE9qRTBPVFF5TXpBMk9EUT0ZD\"\n",
      "            }, \n",
      "            \"next\": \"https://graph.facebook.com/v2.9/390581294464059_698944980294354/comments?access_token=1940006869546648%7C7b27f0f69664660892edf6ee9fea0f8b&summary=true&limit=1&after=WTI5dGJXVnVkRjlqZAFhKemIzSTZAOams0T1RRMU1URXdNamswTXpReE9qRTBPVFF5TXpBMk9EUT0ZD\"\n",
      "        }, \n",
      "        \"summary\": {\n",
      "            \"can_comment\": false, \n",
      "            \"order\": \"chronological\", \n",
      "            \"total_count\": 716\n",
      "        }\n",
      "    }, \n",
      "    \"created_time\": \"2017-05-08T08:04:11+0000\", \n",
      "    \"id\": \"390581294464059_698944980294354\", \n",
      "    \"likes\": {\n",
      "        \"data\": [\n",
      "            {\n",
      "                \"id\": \"10210789131102701\", \n",
      "                \"name\": \"Riany Roong\"\n",
      "            }\n",
      "        ], \n",
      "        \"paging\": {\n",
      "            \"cursors\": {\n",
      "                \"after\": \"MTAyMTA3ODkxMzExMDI3MDEZD\", \n",
      "                \"before\": \"MTAyMTA3ODkxMzExMDI3MDEZD\"\n",
      "            }, \n",
      "            \"next\": \"https://graph.facebook.com/v2.9/390581294464059_698944980294354/likes?access_token=1940006869546648%7C7b27f0f69664660892edf6ee9fea0f8b&summary=true&limit=1&after=MTAyMTA3ODkxMzExMDI3MDEZD\"\n",
      "        }, \n",
      "        \"summary\": {\n",
      "            \"can_like\": false, \n",
      "            \"has_liked\": false, \n",
      "            \"total_count\": 21018\n",
      "        }\n",
      "    }, \n",
      "    \"link\": \"https://www.facebook.com/Jokowi/photos/a.395824410606414.1073741848.390581294464059/698944980294354/?type=3\", \n",
      "    \"message\": \"Mari bersaing dan berlomba-lomba untuk kemajuan bangsa....\", \n",
      "    \"name\": \"Timeline Photos\", \n",
      "    \"reactions\": {\n",
      "        \"data\": [\n",
      "            {\n",
      "                \"id\": \"10210789131102701\", \n",
      "                \"name\": \"Riany Roong\", \n",
      "                \"type\": \"LIKE\"\n",
      "            }\n",
      "        ], \n",
      "        \"paging\": {\n",
      "            \"cursors\": {\n",
      "                \"after\": \"TVRFNE16SXdPVGM1TXpveE5EazBNalE0T1RRMU9qSTFOREE1TmpFMk1UTT0ZD\", \n",
      "                \"before\": \"TVRFNE16SXdPVGM1TXpveE5EazBNalE0T1RRMU9qSTFOREE1TmpFMk1UTT0ZD\"\n",
      "            }, \n",
      "            \"next\": \"https://graph.facebook.com/v2.9/390581294464059_698944980294354/reactions?access_token=1940006869546648%7C7b27f0f69664660892edf6ee9fea0f8b&summary=true&limit=1&after=TVRFNE16SXdPVGM1TXpveE5EazBNalE0T1RRMU9qSTFOREE1TmpFMk1UTT0ZD\"\n",
      "        }, \n",
      "        \"summary\": {\n",
      "            \"total_count\": 22757, \n",
      "            \"viewer_reaction\": \"NONE\"\n",
      "        }\n",
      "    }, \n",
      "    \"shares\": {\n",
      "        \"count\": 1506\n",
      "    }, \n",
      "    \"type\": \"photo\"\n",
      "}\n"
     ]
    }
   ],
   "source": [
    "def getFacebookPageFeedData(page_id, access_token, num_statuses):\n",
    "    \n",
    "    # construct the URL string\n",
    "    base = \"https://graph.facebook.com/v2.9\"\n",
    "    node = \"/\" + page_id + \"/feed\" \n",
    "    parameters = \"/?fields=message,link,created_time,type,name,id,likes.limit(1).summary(true),comments.limit(1).summary(true),shares,reactions.limit(1).summary(true)&limit=%s&access_token=%s\" % (num_statuses, access_token) # changed\n",
    "    url = base + node + parameters\n",
    "    \n",
    "    # retrieve data\n",
    "    data = json.loads(request_until_succeed(url))\n",
    "    \n",
    "    return data\n",
    "    \n",
    "\n",
    "test_status = getFacebookPageFeedData(page_id, access_token, 1)[\"data\"][0]\n",
    "print json.dumps(test_status, indent=4, sort_keys=True)"
   ]
  },
  {
   "cell_type": "markdown",
   "metadata": {
    "deletable": true,
    "editable": true
   },
   "source": [
    "Now that we have a sample Facebook page status, we can write a function to process each field individually."
   ]
  },
  {
   "cell_type": "code",
   "execution_count": 21,
   "metadata": {
    "collapsed": false,
    "deletable": true,
    "editable": true
   },
   "outputs": [
    {
     "name": "stdout",
     "output_type": "stream",
     "text": [
      "(u'390581294464059_698944980294354', 'Mari bersaing dan berlomba-lomba untuk kemajuan bangsa....', 'Timeline Photos', u'photo', u'https://www.facebook.com/Jokowi/photos/a.395824410606414.1073741848.390581294464059/698944980294354/?type=3', '2017-05-08 03:04:11', 716, 1506, 22757)\n"
     ]
    }
   ],
   "source": [
    "def processFacebookPageFeedStatus(status):\n",
    "    \n",
    "    # The status is now a Python dictionary, so for top-level items,\n",
    "    # we can simply call the key.\n",
    "    \n",
    "    # Additionally, some items may not always exist,\n",
    "    # so must check for existence first\n",
    "    \n",
    "    status_id = status['id']\n",
    "    status_type = status['type']\n",
    "    \n",
    "    status_message = '' if 'message' not in status.keys() else status['message'].encode('utf-8')\n",
    "    link_name = '' if 'name' not in status.keys() else status['name'].encode('utf-8')\n",
    "    status_link = '' if 'link' not in status.keys() else status['link']\n",
    "    \n",
    "    \n",
    "    # Time needs special care since a) it's in UTC and\n",
    "    # b) it's not easy to use in statistical programs.\n",
    "    \n",
    "    status_published = datetime.datetime.strptime(status['created_time'],'%Y-%m-%dT%H:%M:%S+0000')\n",
    "    status_published = status_published + datetime.timedelta(hours=-5) # EST\n",
    "    status_published = status_published.strftime('%Y-%m-%d %H:%M:%S') # best time format for spreadsheet programs\n",
    "    \n",
    "    # Nested items require chaining dictionary keys.\n",
    "    num_comments = 0 if 'comments' not in status.keys() else status['comments']['summary']['total_count']\n",
    "    num_shares = 0 if 'shares' not in status.keys() else status['shares']['count']\n",
    "    num_reactions = 0 if 'reactions' not in status.keys() else status['reactions']['summary']['total_count']\n",
    "\n",
    "    # return a tuple of all processed data\n",
    "    return (status_id, status_message, link_name, status_type, status_link,\n",
    "           status_published, num_comments, num_shares, num_reactions)\n",
    "\n",
    "processed_test_status = processFacebookPageFeedStatus(test_status)\n",
    "print processed_test_status"
   ]
  },
  {
   "cell_type": "markdown",
   "metadata": {
    "deletable": true,
    "editable": true
   },
   "source": [
    "Before writing our scrape function, we need to write a helper function to construct URL string which we'll use to query Facebook Page statuses."
   ]
  },
  {
   "cell_type": "code",
   "execution_count": 22,
   "metadata": {
    "collapsed": true,
    "deletable": true,
    "editable": true
   },
   "outputs": [],
   "source": [
    "def getFacebookPageFeedUrl(base_url):\n",
    "\n",
    "    # Construct the URL string; see http://stackoverflow.com/a/37239851 for\n",
    "    # Reactions parameters\n",
    "    fields = \"&fields=message,link,created_time,type,name,id,\" + \\\n",
    "        \"comments.limit(0).summary(true),shares,reactions.limit(0).summary(true)\"\n",
    "        \n",
    "    return base_url + fields"
   ]
  },
  {
   "cell_type": "markdown",
   "metadata": {
    "deletable": true,
    "editable": true
   },
   "source": [
    "We need another helper function to process Reactions metadata. The Python script is taken from this: https://github.com/minimaxir/facebook-page-post-scraper/blob/master/get_fb_posts_fb_page.py. Another work by Max Woolf. Told you this dude is cool!"
   ]
  },
  {
   "cell_type": "code",
   "execution_count": 23,
   "metadata": {
    "collapsed": true,
    "deletable": true,
    "editable": true
   },
   "outputs": [],
   "source": [
    "def getReactionsForStatuses(base_url):\n",
    "\n",
    "    reaction_types = ['like', 'love', 'wow', 'haha', 'sad', 'angry']\n",
    "    reactions_dict = {}   # dict of {status_id: tuple<6>}\n",
    "\n",
    "    for reaction_type in reaction_types:\n",
    "        fields = \"&fields=reactions.type({}).limit(0).summary(total_count)\".format(\n",
    "            reaction_type.upper())\n",
    "\n",
    "        url = base_url + fields\n",
    "\n",
    "        data = json.loads(request_until_succeed(url))['data']\n",
    "\n",
    "        data_processed = set()  # set() removes rare duplicates in statuses\n",
    "        for status in data:\n",
    "            id = status['id']\n",
    "            count = status['reactions']['summary']['total_count']\n",
    "            data_processed.add((id, count))\n",
    "\n",
    "        for id, count in data_processed:\n",
    "            if id in reactions_dict:\n",
    "                reactions_dict[id] = reactions_dict[id] + (count,)\n",
    "            else:\n",
    "                reactions_dict[id] = (count,)\n",
    "\n",
    "    return reactions_dict"
   ]
  },
  {
   "cell_type": "markdown",
   "metadata": {
    "deletable": true,
    "editable": true
   },
   "source": [
    "Surprisingly, we're almost done! Now we just need to:\n",
    "\n",
    "Query each page of Facebook Page Statuses (100 statuses per page) using getFacebookPageFeedUrl.\n",
    "Process all statuses on that page using processFacebookPageFeedStatus and writing the output to a CSV file.\n",
    "Navigate to the next page, and repeat until no more statuses\n",
    "\n",
    "This block implements both the writing to CSV and page navigation.\n"
   ]
  },
  {
   "cell_type": "code",
   "execution_count": 24,
   "metadata": {
    "collapsed": false,
    "deletable": true,
    "editable": true
   },
   "outputs": [
    {
     "name": "stdout",
     "output_type": "stream",
     "text": [
      "Scraping Jokowi Facebook Page: 2017-05-08 21:35:10.813113\n",
      "\n",
      "100 Statuses Processed: 2017-05-08 21:35:14.209514\n",
      "200 Statuses Processed: 2017-05-08 21:35:18.020457\n",
      "300 Statuses Processed: 2017-05-08 21:35:23.839714\n",
      "400 Statuses Processed: 2017-05-08 21:35:29.960010\n",
      "500 Statuses Processed: 2017-05-08 21:35:34.705224\n",
      "600 Statuses Processed: 2017-05-08 21:35:38.842685\n",
      "\n",
      "Done!\n",
      "639 Statuses Processed in 0:00:32.253749\n"
     ]
    }
   ],
   "source": [
    "def scrapeFacebookPageFeedStatus(page_id, access_token):\n",
    "    with open('%s_facebook_statuses.csv' % page_id, 'wb') as file:\n",
    "        w = csv.writer(file)\n",
    "        w.writerow([\"status_id\", \"status_message\", \"link_name\", \"status_type\", \"status_link\",\n",
    "           \"status_published\", \"num_comments\", \"num_shares\", \"num_reactions\", \"num_likes\",\n",
    "           \"num_loves\", \"num_wows\", \"num_hahas\", \"num_sads\", \"num_angrys\"])\n",
    "        \n",
    "        has_next_page = True\n",
    "        num_processed = 0   # keep a count on how many we've processed\n",
    "        scrape_starttime = datetime.datetime.now()\n",
    "        \n",
    "        after = ''\n",
    "        base = \"https://graph.facebook.com/v2.9\"\n",
    "        node = \"/{}/posts\".format(page_id)\n",
    "        parameters = \"/?limit={}&access_token={}\".format(100, access_token)\n",
    "\n",
    "        print \"Scraping %s Facebook Page: %s\\n\" % (page_id, scrape_starttime)\n",
    "        \n",
    "        \n",
    "        while has_next_page:\n",
    "            after = '' if after is '' else \"&after={}\".format(after)\n",
    "            base_url = base + node + parameters + after\n",
    "\n",
    "            url = getFacebookPageFeedUrl(base_url)\n",
    "            statuses = json.loads(request_until_succeed(url))\n",
    "            reactions = getReactionsForStatuses(base_url)\n",
    "\n",
    "            for status in statuses['data']:\n",
    "\n",
    "                # Ensure it is a status with the expected metadata\n",
    "                if 'reactions' in status:\n",
    "                    status_data = processFacebookPageFeedStatus(status)\n",
    "                    reactions_data = reactions[status_data[0]]\n",
    "                    w.writerow(status_data + reactions_data)\n",
    "\n",
    "                num_processed += 1\n",
    "                if num_processed % 100 == 0:\n",
    "                    print(\"{} Statuses Processed: {}\".format(num_processed, datetime.datetime.now()))\n",
    "\n",
    "            # if there is no next page, we're done.\n",
    "            if 'paging' in statuses:\n",
    "                after = statuses['paging']['cursors']['after']\n",
    "            else:\n",
    "                has_next_page = False\n",
    "                print \"\\nDone!\\n%s Statuses Processed in %s\" % (num_processed, datetime.datetime.now() - scrape_starttime)\n",
    "        \n",
    "        \n",
    "if __name__ == '__main__':\n",
    "    scrapeFacebookPageFeedStatus(page_id, access_token)"
   ]
  },
  {
   "cell_type": "code",
   "execution_count": null,
   "metadata": {
    "collapsed": true,
    "deletable": true,
    "editable": true
   },
   "outputs": [],
   "source": []
  }
 ],
 "metadata": {
  "kernelspec": {
   "display_name": "Python 2",
   "language": "python",
   "name": "python2"
  },
  "language_info": {
   "codemirror_mode": {
    "name": "ipython",
    "version": 2
   },
   "file_extension": ".py",
   "mimetype": "text/x-python",
   "name": "python",
   "nbconvert_exporter": "python",
   "pygments_lexer": "ipython2",
   "version": "2.7.13"
  }
 },
 "nbformat": 4,
 "nbformat_minor": 2
}
